{
 "cells": [
  {
   "cell_type": "markdown",
   "metadata": {},
   "source": [
    "# DevelopersIO 2024 Amazon Bedrock のハンズオン\n",
    "\n",
    "ハンズオンへご参加いただきありがとうございます！\n",
    "\n",
    "このセッションでは Knowledge bases for Amazon Bedrock を利用して、ベクトル検索型の RAG システムを体験してみます。\n",
    "\n",
    "本セッションのレベルは 200 から 300 を想定して作成しています。\n",
    "\n",
    "Level の説明\n",
    "- Level 100 : AWS サービスの概要を解説するレベル\n",
    "- Level 200 : トピックの入門知識を持っていることを前提に、ベストプラクティス、サービス機能を解説するレベル\n",
    "- Level 300 : 対象のトピックの詳細を解説するレベル\n",
    "- Level 400 : 複数のサービス、アーキテクチャによる実装でテクノロジーがどのように機能するかを解説するレベル\n",
    "\n",
    "## ラボ環境へのログイン\n",
    "\n",
    "ハンズオン用に払い出された AWS アカウントの認証情報を利用し AWS へログインします。\n",
    "\n",
    "> [!TIP]\n",
    "> XXXXXXX 見栄えを確認\n",
    "\n",
    "画面上部から\n",
    "\n"
   ]
  }
 ],
 "metadata": {
  "language_info": {
   "name": "python"
  }
 },
 "nbformat": 4,
 "nbformat_minor": 2
}
