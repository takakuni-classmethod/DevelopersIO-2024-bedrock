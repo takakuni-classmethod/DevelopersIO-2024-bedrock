{
 "cells": [
  {
   "cell_type": "markdown",
   "metadata": {},
   "source": [
    "# 環境のデプロイ\n",
    "\n",
    "このハンズオンでは、 HashiCorp Terraform で AWS インフラのデプロイ、 Jupyter Notebook で RAG の動作確認を行います。まずはインフラ環境のデプロイを行います。\n",
    "\n",
    "今回は以下の構成で RAG システムを構築し、 Knowlege bases for Amazon Bedrock で提供されている機能にフォーカスしていきます。\n",
    "\n",
    "WIP\n",
    "\n",
    "ハンズオンのアジェンダは以下のとおりです。\n",
    "\n",
    "- Retrieve と RetrieveAndGenerate の違い\n",
    "  - Retrieve して Generate してみよう\n",
    "- ハイブリッド検索について体験してみよう\n",
    "- メタデータフィルタリングについて体験してみよう\n",
    "- ガードレールについて体験してみよう\n",
    "- クエリを分割してみよう\n",
    "\n",
    "## HashiCorp Terraform のインストール\n",
    "\n",
    "作業環境には HashiCorp Terraform がインストールされていないため、インストール作業を行います。\n",
    "\n",
    "画面左上の項目をクリックし、ターミナルを起動します。\n",
    "\n",
    "![](../images/01/01.png)\n",
    "\n",
    "以下のコマンドで HashiCorp Terraform をインストールします。"
   ]
  },
  {
   "cell_type": "code",
   "execution_count": null,
   "metadata": {
    "vscode": {
     "languageId": "shellscript"
    }
   },
   "outputs": [],
   "source": [
    "sudo apt-get update && sudo apt-get install -y gnupg software-properties-common\n",
    "wget -O- https://apt.releases.hashicorp.com/gpg | \\\n",
    "gpg --dearmor | \\\n",
    "sudo tee /usr/share/keyrings/hashicorp-archive-keyring.gpg > /dev/null\n",
    "gpg --no-default-keyring \\\n",
    "--keyring /usr/share/keyrings/hashicorp-archive-keyring.gpg \\\n",
    "--fingerprint\n",
    "echo \"deb [signed-by=/usr/share/keyrings/hashicorp-archive-keyring.gpg] \\\n",
    "https://apt.releases.hashicorp.com $(lsb_release -cs) main\" | \\\n",
    "sudo tee /etc/apt/sources.list.d/hashicorp.list\n",
    "sudo apt update\n",
    "sudo apt-get install terraform"
   ]
  },
  {
   "cell_type": "markdown",
   "metadata": {},
   "source": [
    "[Install Terraform](https://developer.hashicorp.com/terraform/tutorials/aws-get-started/install-cli)\n",
    "\n",
    "以下のコマンドで HashiCorp Terraform のバージョンを確認します。\n"
   ]
  },
  {
   "cell_type": "code",
   "execution_count": null,
   "metadata": {
    "vscode": {
     "languageId": "shellscript"
    }
   },
   "outputs": [],
   "source": [
    "terraform -v"
   ]
  },
  {
   "cell_type": "markdown",
   "metadata": {},
   "source": [
    "## 資材のダウンロード\n",
    "\n",
    "以下のコマンドでハンズオン資材となるソースをダウンロードします。"
   ]
  },
  {
   "cell_type": "code",
   "execution_count": null,
   "metadata": {
    "vscode": {
     "languageId": "shellscript"
    }
   },
   "outputs": [],
   "source": [
    "git clone https://github.com/takakuni-classmethod/DevelopersIO-2024-bedrock.git\n",
    "ls"
   ]
  },
  {
   "cell_type": "markdown",
   "metadata": {},
   "source": [
    "## インフラのデプロイ\n",
    "\n",
    "HashiCorp Terraform を利用してインフラのデプロイを行います。"
   ]
  },
  {
   "cell_type": "code",
   "execution_count": null,
   "metadata": {
    "vscode": {
     "languageId": "shellscript"
    }
   },
   "outputs": [],
   "source": [
    "cd /home/sagemaker-user/DevelopersIO-2024-bedrock/terraform/rag\n",
    "\n",
    "terraform init\n",
    "terraform apply --auto-approve"
   ]
  },
  {
   "cell_type": "markdown",
   "metadata": {},
   "source": [
    "5 分から 15 分程度のデプロイを想定しています。\n",
    "\n",
    "## 拡張機能のインストール（デプロイ待機中）\n",
    "\n",
    "デプロイを待っている間に HashiCorp Terraform の拡張機能をインストールします。（後ほどのハンズオンで利用します）\n",
    "\n",
    "![](../images/01/02.png)"
   ]
  },
  {
   "cell_type": "markdown",
   "metadata": {},
   "source": [
    "## デプロイ終了後\n",
    "\n",
    "### ナレッジベース ID を控える\n",
    "\n",
    "Bedrock コンソールから`ナレッジベース`、 `devio-2024-kb` をクリックします。ナレッジベース ID を後ほど利用するためメモしておいてください.\n",
    "\n",
    "![](../images/01/03.png)\n",
    "\n",
    "### データソースの同期\n",
    "\n",
    "データのエンべディング及びナレッジベースへのインデックス登録を行います。Bedrock コンソールから`ナレッジベース`、 `devio-2024-kb` をクリックします。データソースから `devio-2024-datasource` を選択し、`同期`を行います。\n",
    "\n",
    "![](../images/01/04.png)\n",
    "\n",
    "同期が完了すればセットアップ完了です。\n",
    "\n",
    "Next: [Retrieve と RetrieveAndGenerate の違い](./02.ipynb)\n"
   ]
  }
 ],
 "metadata": {
  "language_info": {
   "name": "python"
  }
 },
 "nbformat": 4,
 "nbformat_minor": 2
}
