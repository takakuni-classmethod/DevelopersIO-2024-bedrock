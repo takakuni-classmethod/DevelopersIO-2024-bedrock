{
 "cells": [
  {
   "cell_type": "markdown",
   "metadata": {},
   "source": [
    "# DevelopersIO 2024 Amazon Bedrock のハンズオン\n",
    "\n",
    "ハンズオンへご参加いただきありがとうございます！\n",
    "\n",
    "このセッションでは Knowledge bases for Amazon Bedrock を利用して、ベクトル検索型の RAG システムを体験してみます。\n",
    "\n",
    "本セッションのレベルは 200 から 300 を想定して作成しています。\n",
    "\n",
    "レベルの説明\n",
    "\n",
    "- Level 100 : AWS サービスの概要を解説するレベル\n",
    "- Level 200 : トピックの入門知識を持っていることを前提に、ベストプラクティス、サービス機能を解説するレベル\n",
    "- Level 300 : 対象のトピックの詳細を解説するレベル\n",
    "- Level 400 : 複数のサービス、アーキテクチャによる実装でテクノロジーがどのように機能するかを解説するレベル\n",
    "\n",
    "## ラボ環境へのログイン\n",
    "\n",
    "ハンズオン用に払い出された AWS アカウントの認証情報を利用し AWS へログインします。\n",
    "\n",
    "> ご自身のアカウントで試してみたい方は \"../terraform/lab\" を利用し、ラボ環境を再現できます。\n",
    "\n",
    "画面上部から `SageMaker` と入力し、 Amazon SageMaker をクリックします。\n",
    "\n",
    "![](../images/01/01.png)\n",
    "\n",
    "SageMaker コンソールに移動しドメイン、 `devio-2024` をクリックします。\n",
    "\n",
    "![](../images/01/02.png)\n",
    "\n",
    "`ユーザープロファイル`から `devio-2024-user` の起動をクリック、パーソナルアプリケーションの `Studio` を選択します。（別タブに移動します。）\n",
    "\n",
    "![](../images/01/03.png)\n",
    "\n",
    "ツアーはスキップします。\n",
    "\n",
    "![](../images/01/04.png)\n",
    "\n",
    "Code Editor をクリックします。\n",
    "\n",
    "![](../images/01/05.png)\n",
    "\n",
    "Name が `devio-2024-space` のスペースを起動します。\n",
    "\n",
    "![](../images/01/06.png)\n",
    "\n",
    "Status が `Running` になったら、 Actions から `Open` をクリックします。（別タブに移動します。）\n",
    "\n",
    "![](../images/01/07.png)\n",
    "\n",
    "Code Editor が起動したら、ラボ環境の立ち上げに成功です！\n",
    "\n"
   ]
  }
 ],
 "metadata": {
  "language_info": {
   "name": "python"
  }
 },
 "nbformat": 4,
 "nbformat_minor": 2
}
