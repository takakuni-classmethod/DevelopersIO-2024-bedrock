{
 "cells": [
  {
   "cell_type": "markdown",
   "metadata": {},
   "source": [
    "# ハイブリッド検索について体験してみよう\n",
    "\n",
    "Knowledge bases for Amazon Bedrock では、ベクトルデータベースが OpenSearch Serverless の場合、 ベクトル検索に加えキーワード検索を行う、ハイブリッド検索をサポートしています。\n",
    "\n",
    "OpenSearch Serverless の場合、次のクエリオプションが選択できます。\n",
    "\n",
    "- Default\n",
    "  - Bedrock 側で、ベクターデータベースの構成に最適な検索方法（Hybrid or Semantic）を決定してクエリを実行\n",
    "- Hybrid\n",
    "  - ベクトル検索とキーワード検索の両方を利用してクエリを実行\n",
    "- Semantic\n",
    "  - ベクトル検索のみでクエリを実行\n",
    "\n",
    "この章ではハイブリッド検索を利用して、回答制度の向上を試してみます。\n",
    "\n",
    "サンプルドキュメントの `all` フォルダには社内の申請に必要なドキュメントを格納しています。それぞれの申請には独自のツールを利用する必要があることが明記されています。\n",
    "\n",
    "- 人事君：住所変更を伴うための社内ツール\n",
    "- 労務君：給与口座変更を行うための社内ツール\n",
    "- 経理君：経費清算を行うための社内ツール\n",
    "\n",
    "## RetrieveAndGenerate API"
   ]
  },
  {
   "cell_type": "code",
   "execution_count": null,
   "metadata": {},
   "outputs": [],
   "source": [
    "import json\n",
    "import boto3\n",
    "\n",
    "KNOWLEDGEBASE_ID = \"\" # ナレッジベース ID を記載\n",
    "model_arn = \"arn:aws:bedrock:us-west-2::foundation-model/anthropic.claude-3-sonnet-20240229-v1:0\"\n",
    "bedrock_agent = boto3.client(\"bedrock-agent-runtime\")\n",
    "prompt = \"労務君は何をするものなのか教えてください。\"\n",
    "\n",
    "response = bedrock_agent.retrieve_and_generate(\n",
    "    input={\"text\": prompt},\n",
    "    retrieveAndGenerateConfiguration={\n",
    "        \"type\": 'KNOWLEDGE_BASE',\n",
    "        \"knowledgeBaseConfiguration\": {\n",
    "            \"knowledgeBaseId\": KNOWLEDGEBASE_ID,\n",
    "            \"modelArn\": model_arn\n",
    "        },\n",
    "    },\n",
    ")\n",
    "\n",
    "print(response[\"output\"][\"text\"])"
   ]
  }
 ],
 "metadata": {
  "language_info": {
   "name": "python"
  }
 },
 "nbformat": 4,
 "nbformat_minor": 2
}
