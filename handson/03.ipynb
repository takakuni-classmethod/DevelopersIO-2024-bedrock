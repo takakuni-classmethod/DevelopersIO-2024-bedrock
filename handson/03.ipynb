{
 "cells": [
  {
   "cell_type": "markdown",
   "metadata": {},
   "source": [
    "# ハイブリッド検索について体験してみよう\n",
    "\n",
    "Knowledge bases for Amazon Bedrock では、ベクトルデータベースが OpenSearch Serverless の場合、 ベクトル検索に加えキーワード検索を行う、ハイブリッド検索をサポートしています。\n",
    "\n",
    "OpenSearch Serverless の場合、次のクエリオプションが選択できます。\n",
    "\n",
    "- Default\n",
    "  - Bedrock 側で、ベクターデータベースの構成に最適な検索方法（Hybrid or Semantic）を決定してクエリを実行\n",
    "- Hybrid\n",
    "  - ベクトル検索とキーワード検索の両方を利用してクエリを実行\n",
    "- Semantic\n",
    "  - ベクトル検索のみでクエリを実行\n",
    "\n",
    "この章ではハイブリッド検索を利用して、回答制度の向上を試してみます。\n",
    "\n",
    "サンプルドキュメントの `all` フォルダには社内の申請に必要なドキュメントを格納しています。それぞれの申請には独自のツールを利用する必要があることが明記されています。\n",
    "\n",
    "- 人事君：住所変更を伴うための社内ツール\n",
    "- 労務君：給与口座変更を行うための社内ツール\n",
    "- 経理君：経費清算を行うための社内ツール\n",
    "\n",
    "## クエリオプションの選択\n",
    "\n",
    "クエリオプションの選択は RetrieveAndGenerate API の場合、 `retrievalConfiguration` から選択可能です。ベクトル検索とハイブリッド検索の違いを体験してみましょう。\n",
    "\n",
    "### ベクトル検索のみ"
   ]
  },
  {
   "cell_type": "code",
   "execution_count": null,
   "metadata": {},
   "outputs": [],
   "source": [
    "import boto3\n",
    "\n",
    "KNOWLEDGEBASE_ID = \"\" # ナレッジベース ID を記載\n",
    "model_arn = \"arn:aws:bedrock:us-west-2::foundation-model/anthropic.claude-3-sonnet-20240229-v1:0\"\n",
    "bedrock_agent = boto3.client(\"bedrock-agent-runtime\")\n",
    "prompt = \"人事君、労務君、経理君の違いを教えて\"\n",
    "\n",
    "response = bedrock_agent.retrieve_and_generate(\n",
    "    input={\"text\": prompt},\n",
    "    retrieveAndGenerateConfiguration={\n",
    "        \"type\": \"KNOWLEDGE_BASE\",\n",
    "        \"knowledgeBaseConfiguration\": {\n",
    "            \"knowledgeBaseId\": KNOWLEDGEBASE_ID,\n",
    "            \"modelArn\": model_arn,\n",
    "            \"retrievalConfiguration\": {\n",
    "                \"vectorSearchConfiguration\": {\n",
    "                    \"overrideSearchType\": \"SEMANTIC\" # ベクトル検索\n",
    "                }\n",
    "            }\n",
    "        },\n",
    "    },\n",
    ")\n",
    "\n",
    "print(response[\"output\"][\"text\"])"
   ]
  },
  {
   "cell_type": "markdown",
   "metadata": {},
   "source": [
    "### ハイブリッド検索"
   ]
  },
  {
   "cell_type": "code",
   "execution_count": null,
   "metadata": {},
   "outputs": [],
   "source": [
    "response = bedrock_agent.retrieve_and_generate(\n",
    "    input={\"text\": prompt},\n",
    "    retrieveAndGenerateConfiguration={\n",
    "        \"type\": \"KNOWLEDGE_BASE\",\n",
    "        \"knowledgeBaseConfiguration\": {\n",
    "            \"knowledgeBaseId\": KNOWLEDGEBASE_ID,\n",
    "            \"modelArn\": model_arn,\n",
    "            \"retrievalConfiguration\": {\n",
    "                \"vectorSearchConfiguration\": {\n",
    "                    \"overrideSearchType\": \"HYBRID\" # ハイブリッド検索\n",
    "                }\n",
    "            }\n",
    "        },\n",
    "    },\n",
    ")\n",
    "\n",
    "print(response[\"output\"][\"text\"])"
   ]
  },
  {
   "cell_type": "markdown",
   "metadata": {},
   "source": [
    "## 日本語プラグインを利用したキーワード検索の精度向上\n",
    "\n",
    "OpenSearch Serverless は、最初から日本語のキーワード検索に対応していません。そのため、日本語の単語が適切に分割されず、検索結果が正確でない可能性があります。\n",
    "\n",
    "この問題を解決するために、日本語の文章を適切に分析できる「[kuromoji](https://www.elastic.co/guide/en/elasticsearch/plugins/current/analysis-kuromoji.html)」というプラグインを使います。 kurmoji は日本語の形態素解析（単語の分割や品詞の判別）を行うツールです。\n",
    "\n",
    "### kuromoji プラグインの利用\n",
    "\n",
    "kuromoji プラグインを利用するために、 OpenSearch のインデックスとナレッジベースのデータソースを再作成を行います。\n",
    "\n",
    "[rag/aoss.tf](../terraform/rag/aoss.tf) の 126 行目 と 182 行目から 212 行目のコメントを外します。\n",
    "\n",
    "ターミナルに戻り Terraform の apply を再度実行します。"
   ]
  },
  {
   "cell_type": "markdown",
   "metadata": {},
   "source": [
    "#### コピペ用"
   ]
  },
  {
   "cell_type": "code",
   "execution_count": null,
   "metadata": {
    "vscode": {
     "languageId": "shellscript"
    }
   },
   "outputs": [],
   "source": [
    "cd ~/DevelopersIO-2024-bedrock/terraform/rag/\n",
    "terraform apply --replace aws_bedrockagent_data_source.this --auto-approve"
   ]
  },
  {
   "cell_type": "markdown",
   "metadata": {},
   "source": [
    "ナレッジベースとデータソースの再同期を行います。Bedrock コンソールから`ナレッジベース`、 `devio-2024-kb` をクリックします。データソースから `devio-2024-datasource` を選択し、`同期`を行います。\n",
    "\n",
    "![](../images/03/01.png)\n",
    "\n",
    "### ハイブリッド検索\n",
    "\n",
    "ハイブリッド検索を再度実行してみます。検索精度は向上しましたか...？\n",
    "\n",
    "余裕があれば、プロンプトの内容を変えて質問してみましょう。"
   ]
  },
  {
   "cell_type": "code",
   "execution_count": null,
   "metadata": {},
   "outputs": [],
   "source": [
    "response = bedrock_agent.retrieve_and_generate(\n",
    "    input={\"text\": prompt},\n",
    "    retrieveAndGenerateConfiguration={\n",
    "        \"type\": \"KNOWLEDGE_BASE\",\n",
    "        \"knowledgeBaseConfiguration\": {\n",
    "            \"knowledgeBaseId\": KNOWLEDGEBASE_ID,\n",
    "            \"modelArn\": model_arn,\n",
    "            \"retrievalConfiguration\": {\n",
    "                \"vectorSearchConfiguration\": {\n",
    "                    \"overrideSearchType\": \"HYBRID\" # ハイブリッド検索\n",
    "                }\n",
    "            }\n",
    "        },\n",
    "    },\n",
    ")\n",
    "\n",
    "print(response[\"output\"][\"text\"])"
   ]
  },
  {
   "cell_type": "markdown",
   "metadata": {},
   "source": [
    "`Sorry, I am unable to assist you with this request.` と表示される場合は 1,2 分ほどおいて再度実行してみてください"
   ]
  },
  {
   "cell_type": "markdown",
   "metadata": {},
   "source": [
    "## まとめ\n",
    "\n",
    "このセクションでは次のことを学びました。\n",
    "\n",
    "- ベクトルデータベースが Open Search Serverless の場合はハイブリッド検索ができる\n",
    "  - ベクトル検索、キーワード検索に優劣はないです\n",
    "- Open Search Serverless の日本語プラグインを利用することで、キーワード検索の精度向上が見込める\n",
    "  - 日本語プラグインには Kuromoji が提供されている"
   ]
  },
  {
   "cell_type": "markdown",
   "metadata": {},
   "source": [
    "Next: [メタデータフィルタリングについて体験してみよう](./04.ipynb)"
   ]
  }
 ],
 "metadata": {
  "language_info": {
   "name": "python"
  }
 },
 "nbformat": 4,
 "nbformat_minor": 2
}
