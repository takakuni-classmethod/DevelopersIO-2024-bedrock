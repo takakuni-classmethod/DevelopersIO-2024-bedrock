{
 "cells": [
  {
   "cell_type": "markdown",
   "metadata": {},
   "source": [
    "# クエリを分割しログを眺めてみる\n",
    "\n",
    "Knowledge bases for Amazon Bedrock では、クエリをいくつかのサブクエリに分割し各クエリで RAG へ検索する機能が提供されています。\n",
    "\n",
    "例えば、次の問い合わせがあったとします。\n",
    "\n",
    "```text\n",
    "オフィスは何時に開錠されますか？ミーティング\n",
    "```\n",
    "\n",
    "この問いに対して、以下のように細かい問い合わせに分割することが`クエリ分割`です。\n",
    "\n",
    "\n",
    "```markdown\n",
    "- \n",
    "- \n",
    "- \n",
    "```\n",
    "\n",
    "クエリ分割によって RAG へ問い合わせを行いたい内容が明確化され、具体的で詳細な情報を効率的に取得できます。"
   ]
  },
  {
   "cell_type": "markdown",
   "metadata": {},
   "source": [
    "## クエリ分割の実装\n",
    "\n",
    "クエリ分割の実装は RetrieveAndGenerate API の場合、 `orchestrationConfiguration` から利用可能です。このセクションではクエリ分割を行ったのちに、 Bedrock の 実行ログを確認しクエリ分割がどのように行われているかをみてみましょう。\n"
   ]
  },
  {
   "cell_type": "code",
   "execution_count": null,
   "metadata": {},
   "outputs": [],
   "source": [
    "import boto3\n",
    "\n",
    "KNOWLEDGEBASE_ID = \"\" # ナレッジベース ID を記載\n",
    "model_arn = \"arn:aws:bedrock:us-west-2::foundation-model/anthropic.claude-3-sonnet-20240229-v1:0\"\n",
    "bedrock_agent = boto3.client(\"bedrock-agent-runtime\")\n",
    "prompt = \"オフィスの会議室を借りたいです。何時から借りれて、どのように予約すればいいですか？\"\n",
    "\n",
    "response = bedrock_agent.retrieve_and_generate(\n",
    "    input={\"text\": prompt},\n",
    "    retrieveAndGenerateConfiguration={\n",
    "        \"type\": \"KNOWLEDGE_BASE\",\n",
    "        \"knowledgeBaseConfiguration\": {\n",
    "            \"knowledgeBaseId\": KNOWLEDGEBASE_ID,\n",
    "            \"modelArn\": model_arn,\n",
    "            \"orchestrationConfiguration\": {\n",
    "                \"queryTransformationConfiguration\": {\n",
    "                    \"type\": \"QUERY_DECOMPOSITION\",\n",
    "                },\n",
    "            },\n",
    "        },\n",
    "    },\n",
    ")\n",
    "\n",
    "print(response[\"output\"][\"text\"])"
   ]
  },
  {
   "cell_type": "markdown",
   "metadata": {},
   "source": [
    "## ログを確認してみる"
   ]
  }
 ],
 "metadata": {
  "language_info": {
   "name": "python"
  }
 },
 "nbformat": 4,
 "nbformat_minor": 2
}
