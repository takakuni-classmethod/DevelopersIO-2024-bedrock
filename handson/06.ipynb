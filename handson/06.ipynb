{
 "cells": [
  {
   "cell_type": "markdown",
   "metadata": {},
   "source": [
    "# クエリを分割しログを眺めてみる\n",
    "\n",
    "Knowledge bases for Amazon Bedrock では、クエリをいくつかのサブクエリに分割し各クエリで RAG へ検索する機能が提供されています。\n",
    "\n",
    "例えば以下のクエリがあったとします。\n",
    "\n",
    "```text\n"
   ]
  },
  {
   "cell_type": "markdown",
   "metadata": {},
   "source": [
    "\n",
    "```"
   ]
  }
 ],
 "metadata": {
  "language_info": {
   "name": "python"
  }
 },
 "nbformat": 4,
 "nbformat_minor": 2
}
