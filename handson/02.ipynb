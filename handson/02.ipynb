{
 "cells": [
  {
   "cell_type": "markdown",
   "metadata": {},
   "source": [
    "# Retrieve と RetrieveAndGenerate の違い\n",
    "\n",
    "Knowledge bases for Amazon Bedrock を利用した検索には 2 種類の API が提供されています。\n",
    "\n",
    "- [RetrieveAndGenerate](https://docs.aws.amazon.com/bedrock/latest/APIReference/API_agent-runtime_RetrieveAndGenerate.html)\n",
    "- [Retrieve](https://docs.aws.amazon.com/bedrock/latest/APIReference/API_agent-runtime_Retrieve.html)\n",
    "\n",
    "文字通り Retrieve API はベクトルデータベースから情報の取得のみを行い、 RetrieveAndGenerate API はベクトルデータベースから情報の取得した後、回答生成まで行います。\n",
    "\n",
    "![](../images/02/01.png)\n",
    "\n",
    "![](../images/02/02.png)\n",
    "\n",
    "RetrieveAndGenerate API と Retrieve API の挙動を確認してみます。\n",
    "\n",
    "## RetrieveAndGenerate API\n",
    "\n",
    "カーネルは `base` を選択してください。\n",
    "\n",
    "![](../images/02/03.png)"
   ]
  },
  {
   "cell_type": "code",
   "execution_count": null,
   "metadata": {},
   "outputs": [],
   "source": [
    "import boto3\n",
    "\n",
    "KNOWLEDGEBASE_ID = \"\" # ナレッジベース ID を記載\n",
    "model_arn = \"arn:aws:bedrock:us-west-2::foundation-model/anthropic.claude-3-sonnet-20240229-v1:0\"\n",
    "bedrock_agent = boto3.client(\"bedrock-agent-runtime\")\n",
    "prompt = \"私はエンジニアです。オンボーディング初日に必要なことを教えてください。\"\n",
    "\n",
    "response = bedrock_agent.retrieve_and_generate(\n",
    "    input={\"text\": prompt},\n",
    "    retrieveAndGenerateConfiguration={\n",
    "        \"type\": 'KNOWLEDGE_BASE',\n",
    "        \"knowledgeBaseConfiguration\": {\n",
    "            \"knowledgeBaseId\": KNOWLEDGEBASE_ID,\n",
    "            \"modelArn\": model_arn\n",
    "        },\n",
    "    },\n",
    ")\n",
    "\n",
    "print(response[\"output\"][\"text\"])"
   ]
  },
  {
   "cell_type": "markdown",
   "metadata": {},
   "source": [
    "## Retrieve API"
   ]
  },
  {
   "cell_type": "code",
   "execution_count": null,
   "metadata": {},
   "outputs": [],
   "source": [
    "response = bedrock_agent.retrieve(\n",
    "    knowledgeBaseId=KNOWLEDGEBASE_ID,\n",
    "    retrievalQuery={\n",
    "        \"text\": prompt\n",
    "    },\n",
    "    retrievalConfiguration={\n",
    "            'vectorSearchConfiguration': {\n",
    "            'numberOfResults': 2\n",
    "        }\n",
    "    }\n",
    ")\n",
    "\n",
    "retrieval_results = response.get(\"retrievalResults\")\n",
    "print(retrieval_results)"
   ]
  },
  {
   "cell_type": "markdown",
   "metadata": {},
   "source": [
    "## Retrieve して Generate してみよう\n",
    "\n",
    "このままだと素っ気ないため、Retrieve した結果を元に回答を生成してみましょう。\n",
    "\n",
    "Retrieve API の醍醐味は、回答生成に利用するモデルを自由に選択できることです。\n",
    "\n",
    "今回は RetrieveAndGenerate API (Knowledge bases for Amazon Bedrock) でサポートされていない `Claude 3 Opus` を回答生成に使ってみましょう。\n",
    "\n",
    "[Converse API](https://docs.aws.amazon.com/bedrock/latest/APIReference/API_runtime_Converse.html) を利用することで、共通化された API スキーマでモデルを実行できます。"
   ]
  },
  {
   "cell_type": "code",
   "execution_count": null,
   "metadata": {},
   "outputs": [],
   "source": [
    "# ベクトルデータベースへ検索\n",
    "response = bedrock_agent.retrieve(\n",
    "    knowledgeBaseId=KNOWLEDGEBASE_ID,\n",
    "    retrievalQuery={\n",
    "        \"text\": prompt\n",
    "    },\n",
    "    retrievalConfiguration={\n",
    "            'vectorSearchConfiguration': {\n",
    "            'numberOfResults': 2\n",
    "        }\n",
    "    }\n",
    ")\n",
    "retrieval_results = response.get(\"retrievalResults\")\n",
    "\n",
    "# コンテキストを突っ込む箱の作成\n",
    "messages = []\n",
    "bedrock = boto3.client(\"bedrock-runtime\")\n",
    "model_id = \"anthropic.claude-3-opus-20240229-v1:0\"\n",
    "\n",
    "# 質問文の整形\n",
    "user_inputs = {\n",
    "    \"role\": \"user\",\n",
    "    \"content\": [{\"text\": prompt}],\n",
    "}\n",
    "messages.append(user_inputs)\n",
    "\n",
    "# ナレッジベースからの回答を整形\n",
    "assistant_inputs = {\n",
    "    \"role\": \"assistant\",\n",
    "\t\"content\": [],\n",
    "}\n",
    "\n",
    "for text in retrieval_results:\n",
    "    assistant_inputs.get(\"content\").append({\"text\": text.get(\"content\").get(\"text\")})\n",
    "messages.append(assistant_inputs)\n",
    "\n",
    "# 回答文の生成\n",
    "response = bedrock.converse(\n",
    "    modelId=model_id,\n",
    "    messages=messages,\n",
    ")\n",
    "answer = response.get(\"output\").get(\"message\").get(\"content\")[0].get(\"text\")\n",
    "print(answer)"
   ]
  },
  {
   "cell_type": "markdown",
   "metadata": {},
   "source": [
    "RetrieveAndGenerate API は、ベクトルデータベースからの情報取得と回答文の生成を1つの API で行う、非常に便利なインターフェースです。\n",
    "\n",
    "しかし、回答生成に利用可能なモデルには制限があるため、複数のモデルを使用してモデルを比較したい場合は、 Retrieve API を利用して、独自に回答生成処理を実装する方法が効果的です。\n",
    "\n",
    "## まとめ\n",
    "\n",
    "このセクションでは次のことを学びました。\n",
    "\n",
    "- Retrieve と RetrieveAndGenerate の違い\n",
    "- ナレッジベースを利用した回答生成には 2 種類のパターンがある\n",
    "  - RetrieveAndGenerate API で一貫した回答生成\n",
    "  - Retrieve と Generate を分けて API 実行\n",
    "    - 利用可能なモデルの選択肢を広げる\n",
    "- Converse API はモデルごとに異なる API スキーマを抽象化してくれる\n",
    "\n",
    "Next: [ハイブリッド検索について体験してみよう](./03.ipynb)"
   ]
  }
 ],
 "metadata": {
  "language_info": {
   "name": "python"
  }
 },
 "nbformat": 4,
 "nbformat_minor": 2
}
