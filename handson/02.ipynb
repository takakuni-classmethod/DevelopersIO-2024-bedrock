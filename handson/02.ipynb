{
 "cells": [
  {
   "cell_type": "markdown",
   "metadata": {},
   "source": [
    "# Retrieve と RetrieveAndGenerate の違い\n",
    "\n",
    "Knowledge bases for Amazon Bedrock を利用した検索には 2 種類の API が提供されています。\n",
    "\n",
    "- [RetrieveAndGenerate](https://docs.aws.amazon.com/bedrock/latest/APIReference/API_agent-runtime_RetrieveAndGenerate.html)\n",
    "- [Retrieve](https://docs.aws.amazon.com/bedrock/latest/APIReference/API_agent-runtime_Retrieve.html)\n",
    "\n",
    "文字通り Retrieve API はベクトルデータベースから情報の取得のみを行い、 RetrieveAndGenerate API はベクトルデータベースから情報の取得した後、回答生成まで行います。\n",
    "\n",
    "WIP\n",
    "\n",
    "<img src=\"../images/01/01.png\">\n",
    "\n",
    "RetrieveAndGenerate API と Retrieve API の挙動を確認してみます。\n",
    "\n",
    "## RetrieveAndGenerate API"
   ]
  },
  {
   "cell_type": "code",
   "execution_count": null,
   "metadata": {},
   "outputs": [],
   "source": [
    "import boto3\n",
    "\n",
    "KNOWLEDGEBASE_ID = \"\" # ナレッジベース ID を記載\n",
    "REGION = \"us-west-2\"\n",
    "\n",
    "model_arn = \"arn:aws:bedrock:us-east-1::foundation-model/anthropic.claude-3-sonnet-20240229-v1:0\"\n",
    "knowledge_base = boto3.client(\"bedrock-agent-runtime\")\n",
    "\n",
    "knowledge_base.retrieve_and_generate(\n",
    "    input={\"text\": \"私はエンジニアです。オンボーディング初日に必要なことを教えてください。\"},\n",
    "    retrieveAndGenerateConfiguration={\n",
    "        \"type\": 'KNOWLEDGE_BASE',\n",
    "        \"knowledgeBaseConfiguration\": {\n",
    "            \"knowledgeBaseId\": KNOWLEDGEBASE_ID,\n",
    "            \"modelArn\": model_arn\n",
    "        },\n",
    "    },\n",
    ")"
   ]
  }
 ],
 "metadata": {
  "language_info": {
   "name": "python"
  }
 },
 "nbformat": 4,
 "nbformat_minor": 2
}
