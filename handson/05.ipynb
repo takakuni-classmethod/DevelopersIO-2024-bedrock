{
 "cells": [
  {
   "cell_type": "markdown",
   "metadata": {},
   "source": [
    "# Bedrock のログを有効化してみよう\n",
    "\n",
    "Knowledge bases for Amazon Bedrock では次のログが利用可能です。\n",
    "\n",
    "1. [Model invocation logging](https://docs.aws.amazon.com/bedrock/latest/userguide/model-invocation-logging.html)\n",
    "2. [Knowledge bases logging](https://docs.aws.amazon.com/bedrock/latest/userguide/knowledge-bases-logging.html)\n",
    "\n",
    "今回はそれぞれのログ記録を有効化し、各ログに記録されるデータを見てみましょう。"
   ]
  }
 ],
 "metadata": {
  "language_info": {
   "name": "python"
  }
 },
 "nbformat": 4,
 "nbformat_minor": 2
}
