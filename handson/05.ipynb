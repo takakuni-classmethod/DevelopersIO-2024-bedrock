{
 "cells": [
  {
   "cell_type": "markdown",
   "metadata": {},
   "source": [
    "# Bedrock のログを有効化してみよう\n",
    "\n",
    "Knowledge bases for Amazon Bedrock では次のログが利用可能です。\n",
    "\n",
    "1. [Model invocation logging](https://docs.aws.amazon.com/bedrock/latest/userguide/model-invocation-logging.html)\n",
    "2. [Knowledge bases logging](https://docs.aws.amazon.com/bedrock/latest/userguide/knowledge-bases-logging.html)\n",
    "\n",
    "今回はそれぞれのログ記録を有効化し、各ログに記録されるデータを見てみましょう。"
   ]
  },
  {
   "cell_type": "markdown",
   "metadata": {},
   "source": [
    "## Model invocation logging\n",
    "\n",
    "Model invocation logging は LLM 全般の実行履歴を記録します。次の形式の生成を行なった場合におけるログを記録します。\n",
    "\n",
    "- Text\n",
    "- Image\n",
    "- Embedding\n",
    "\n",
    "[Using the console](https://docs.aws.amazon.com/bedrock/latest/userguide/model-invocation-logging.html)"
   ]
  },
  {
   "cell_type": "markdown",
   "metadata": {},
   "source": [
    "### 有効化\n",
    "\n",
    "ログの有効化は Terraform でサポートされていないため、マネジメントコンソールより有効化作業を行います。Bedrock コンソールより `設定` からモデル呼び出しのログ記録を有効化します。\n",
    "\n",
    "以下の情報を指定します。設定を保存します。\n",
    "\n",
    "- ロググループ名：`/aws/bedrock/devio-2024-invoke`\n",
    "- サービスロール：`devio-2024-bedrock-log-role`\n",
    "\n",
    "![](../images/05/01.png)"
   ]
  },
  {
   "cell_type": "markdown",
   "metadata": {},
   "source": [
    "## Knowledge bases logging\n",
    "\n",
    "Knowledge bases logging はナレッジベースへのデータの取り込みおよび、エンべディング処理を記録するためのログです。\n",
    "\n",
    "ナレッジベースごとに設定可能で、取り込みジョブが失敗したことを検知したいケースなどで有効です。\n",
    "\n",
    "[Knowledge bases logging](https://docs.aws.amazon.com/bedrock/latest/userguide/knowledge-bases-logging.html)"
   ]
  },
  {
   "cell_type": "markdown",
   "metadata": {},
   "source": [
    "### 有効化\n",
    "\n",
    "こちらも現状 Terraform ではサポートされていないため、コンソールから記録を有効にします。\n",
    "\n",
    "Bedrock コンソールよりナレッジベースを選択し、 `Log Deliveries` の Edit をクリックします。\n",
    "\n",
    "![](../images/05/02.png)\n",
    "\n",
    "ログ配信のセクションで対象のロググループを選択し、設定を保存します。\n",
    "\n",
    "※閲覧から指定すると自動的に入力されます\n",
    "\n",
    "- ロググループ名：`/aws/bedrock/devio-2024-kb`\n",
    "\n",
    "![](../images/05/03.png)"
   ]
  },
  {
   "cell_type": "markdown",
   "metadata": {},
   "source": [
    "## 動作確認\n",
    "\n",
    "それではログがどういった形で記録されるのか、動作確認をしてみましょう。\n",
    "\n",
    "[/rag/datasource.tf](../terraform/rag/datasource.tf) の 71 から 81 行目をコメントを外し、新しいオブジェクトを S3 にアップロードします。\n",
    "\n",
    "```bash\n",
    "terraform apply --auto-approve\n",
    "```\n",
    "\n",
    "ナレッジベースとデータソースの再同期を行います。Bedrock コンソールから`ナレッジベース`、 `devio-2024-kb` をクリックします。データソースから `devio-2024-datasource` を選択し、`同期`を行います。\n",
    "\n",
    "![](../images/05/04.png)"
   ]
  },
  {
   "cell_type": "markdown",
   "metadata": {},
   "source": [
    "### /aws/bedrock/devio-2024-invoke\n",
    "\n",
    "CloudWatch コンソールよりロググループを選択します。\n",
    "\n",
    "- `/aws/bedrock/devio-2024-invoke`\n",
    "\n",
    "ログの内容を見てみましょう。"
   ]
  },
  {
   "cell_type": "markdown",
   "metadata": {},
   "source": [
    "### /aws/bedrock/devio-2024-kb\n",
    "\n",
    "CloudWatch コンソールよりロググループを選択します。\n",
    "\n",
    "- `/aws/bedrock/devio-2024-kb`\n",
    "\n",
    "ログの内容を見てみましょう。"
   ]
  }
 ],
 "metadata": {
  "language_info": {
   "name": "python"
  }
 },
 "nbformat": 4,
 "nbformat_minor": 2
}
