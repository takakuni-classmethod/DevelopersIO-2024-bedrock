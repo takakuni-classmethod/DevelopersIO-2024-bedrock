{
 "cells": [
  {
   "cell_type": "markdown",
   "metadata": {},
   "source": [
    "# Bedrock のログを有効化してみよう\n",
    "\n",
    "Knowledge bases for Amazon Bedrock では次のログが利用可能です。\n",
    "\n",
    "1. [Model invocation logging](https://docs.aws.amazon.com/bedrock/latest/userguide/model-invocation-logging.html)\n",
    "2. [Knowledge bases logging](https://docs.aws.amazon.com/bedrock/latest/userguide/knowledge-bases-logging.html)\n",
    "\n",
    "今回はそれぞれのログ記録を有効化し、各ログに記録されるデータを見てみましょう。"
   ]
  },
  {
   "cell_type": "markdown",
   "metadata": {},
   "source": [
    "## Model invocation logging\n",
    "\n",
    "Model invocation logging は LLM 全般の実行履歴を記録します。次の形式の生成を行なった場合におけるログを記録します。\n",
    "\n",
    "- Text\n",
    "- Image\n",
    "- Embedding\n",
    "\n",
    "[Using the console](https://docs.aws.amazon.com/bedrock/latest/userguide/model-invocation-logging.html)"
   ]
  },
  {
   "cell_type": "markdown",
   "metadata": {},
   "source": [
    "### 有効化\n",
    "\n",
    "ログの有効化は Terraform でサポートされていないため、マネジメントコンソールより有効化作業を行います。Bedrock コンソールより `設定` からモデル呼び出しのログ記録を有効化します。\n",
    "\n",
    "以下の情報を指定します。設定を保存します。\n",
    "\n",
    "- ロググループ名：`/aws/bedrock/devio-2024-invoke`\n",
    "- サービスロール：`devio-2024-bedrock-log-role`\n",
    "\n",
    "![](../images/05/01.png)"
   ]
  }
 ],
 "metadata": {
  "language_info": {
   "name": "python"
  }
 },
 "nbformat": 4,
 "nbformat_minor": 2
}
